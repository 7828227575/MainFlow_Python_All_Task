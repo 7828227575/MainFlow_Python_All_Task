{
 "cells": [
  {
   "cell_type": "code",
   "execution_count": 1,
   "metadata": {},
   "outputs": [],
   "source": [
    "import tkinter as tk\n",
    "\n",
    "class CurrencyConverter:\n",
    "    def __init__(self, root):\n",
    "        self.root = root\n",
    "        self.root.title(\"USD Currency Converter\")\n",
    "\n",
    "        # Create input field for USD amount\n",
    "        self.amount_label = tk.Label(root, text=\"Amount (USD):\")\n",
    "        self.amount_label.grid(row=0, column=0)\n",
    "        self.amount_entry = tk.Entry(root)\n",
    "        self.amount_entry.grid(row=0, column=1)\n",
    "\n",
    "        # Create dropdown menu for selecting target currency\n",
    "        self.currency_label = tk.Label(root, text=\"Target Currency:\")\n",
    "        self.currency_label.grid(row=1, column=0)\n",
    "        self.currency_var = tk.StringVar()\n",
    "        self.currency_var.set(\"Select Currency\")\n",
    "        self.currency_menu = tk.OptionMenu(root, self.currency_var, \"EUR\", \"GBP\", \"JPY\", \"CNY\")\n",
    "        self.currency_menu.grid(row=1, column=1)\n",
    "\n",
    "        # Create button for performing conversion\n",
    "        self.convert_button = tk.Button(root, text=\"Convert\", command=self.convert_currency)\n",
    "        self.convert_button.grid(row=2, column=0, columnspan=2)\n",
    "\n",
    "        # Create label to display converted amount\n",
    "        self.result_label = tk.Label(root, text=\"\")\n",
    "        self.result_label.grid(row=3, column=0, columnspan=2)\n",
    "\n",
    "    def convert_currency(self):\n",
    "        # Get USD amount and target currency from input fields\n",
    "        amount = float(self.amount_entry.get())\n",
    "        currency = self.currency_var.get()\n",
    "\n",
    "        # Fetch exchange rate from API\n",
    "        exchange_rate = self.get_exchange_rate(currency)\n",
    "\n",
    "        # Perform conversion\n",
    "        converted_amount = amount * exchange_rate\n",
    "\n",
    "        # Display converted amount\n",
    "        self.result_label.config(text=f\"{amount} USD is equal to {converted_amount} {currency}\")\n",
    "\n",
    "    def get_exchange_rate(self, currency):\n",
    "        # Implement API call to fetch exchange rate\n",
    "        # For example, using the requests library\n",
    "        import requests\n",
    "        response = requests.get(f\"https://api.exchangerate-api.com/v4/latest/USD?base=USD&symbols={currency}\")\n",
    "        data = response.json()\n",
    "        exchange_rate = data[\"rates\"][currency]\n",
    "        return exchange_rate\n",
    "\n",
    "root = tk.Tk()\n",
    "converter = CurrencyConverter(root)\n",
    "root.mainloop()"
   ]
  }
 ],
 "metadata": {
  "kernelspec": {
   "display_name": "Python 3",
   "language": "python",
   "name": "python3"
  },
  "language_info": {
   "codemirror_mode": {
    "name": "ipython",
    "version": 3
   },
   "file_extension": ".py",
   "mimetype": "text/x-python",
   "name": "python",
   "nbconvert_exporter": "python",
   "pygments_lexer": "ipython3",
   "version": "3.12.4"
  }
 },
 "nbformat": 4,
 "nbformat_minor": 2
}
